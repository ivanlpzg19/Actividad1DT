{
 "cells": [
  {
   "cell_type": "code",
   "execution_count": null,
   "id": "ba59e375-4aca-4fe6-b636-9c4dfdb288e5",
   "metadata": {},
   "outputs": [],
   "source": [
    "print (\"hola mundo\")"
   ]
  },
  {
   "cell_type": "markdown",
   "id": "5676e9ff-f745-4c35-b063-c2a64aeed307",
   "metadata": {},
   "source": [
    "Prte 2"
   ]
  },
  {
   "cell_type": "code",
   "execution_count": 45,
   "id": "7f675132-5b65-45db-a161-86045a398af6",
   "metadata": {},
   "outputs": [],
   "source": [
    "diccolors= {'Negro': '0', 'Marron':'1','Rojo':'2', 'Naranja':'3', 'Amarillo':'4','Verde':'5', 'Azul':'6', 'Purpura':'7', 'Gris':'8', 'Blanco':'9'}\n",
    "\n",
    "def resistencia(cadenac):\n",
    "    cadena=cadenac.split('-')\n",
    "    color1=str(diccolors[cadena[0]])\n",
    "    color2=str(diccolors[cadena[1]])\n",
    "    return color1 + color2"
   ]
  },
  {
   "cell_type": "code",
   "execution_count": 44,
   "id": "515bb6c0-a488-4486-9df4-ac498b25ded2",
   "metadata": {},
   "outputs": [
    {
     "name": "stdout",
     "output_type": "stream",
     "text": [
      "03\n"
     ]
    }
   ],
   "source": [
    "print(resistencia(\"Negro-Naranja\"))"
   ]
  },
  {
   "cell_type": "markdown",
   "id": "adfb6a8b-6722-4b92-8ace-8bb6024bf730",
   "metadata": {},
   "source": [
    "Parte 3"
   ]
  },
  {
   "cell_type": "code",
   "execution_count": 46,
   "id": "3f6a807c-e833-44be-926b-ff128aa0d20b",
   "metadata": {},
   "outputs": [
    {
     "name": "stdin",
     "output_type": "stream",
     "text": [
      "Ingresa un año:  2020\n"
     ]
    },
    {
     "name": "stdout",
     "output_type": "stream",
     "text": [
      "El año es bisiesto.\n"
     ]
    }
   ],
   "source": [
    "year = int(input(\"Ingresa un año: \"))\n",
    "\n",
    "if year % 4 == 0:\n",
    "    if year % 100 == 0:\n",
    "        if year % 400 == 0:\n",
    "            print('El año es bisiesto')\n",
    "        else:\n",
    "            print('El año no es bisiesto')\n",
    "    else:\n",
    "        print('El año es bisiesto.')\n",
    "else:\n",
    "    print('El año no es bisiesto.')"
   ]
  },
  {
   "cell_type": "markdown",
   "id": "c9cc6c9c-922c-4dfb-8d83-d6307c0f8ea0",
   "metadata": {},
   "source": [
    "Parte 4"
   ]
  },
  {
   "cell_type": "code",
   "execution_count": 4,
   "id": "756a7474-d05e-4f13-b3ce-5a531ae5f1c4",
   "metadata": {},
   "outputs": [
    {
     "data": {
      "text/plain": [
       "{'mercurio': 0.2408467,\n",
       " 'venus': 0.61519726,\n",
       " 'tierra': 1.0,\n",
       " 'marte': 1.8808158,\n",
       " 'jupiter': 11.862615,\n",
       " 'saturno': 9.447498,\n",
       " 'urano': 84.016846,\n",
       " 'neptuno': 164.79132}"
      ]
     },
     "execution_count": 4,
     "metadata": {},
     "output_type": "execute_result"
    }
   ],
   "source": [
    "lista1 = [\"mercurio\",\"venus\",\"tierra\",\"marte\",\"jupiter\",\"saturno\",\"urano\",\"neptuno\"]\n",
    "lista2 = [0.2408467,0.61519726,1.0,1.8808158,11.862615,9.447498,84.016846,164.79132 ]\n",
    "diccionario=dict(zip(lista1, lista2)) #Se crea el diccionario a partir de las 2 listas\n",
    "diccionario\n"
   ]
  },
  {
   "cell_type": "code",
   "execution_count": 5,
   "id": "12a3dded-94c6-407d-a3a2-283e2e57be92",
   "metadata": {},
   "outputs": [],
   "source": [
    "segtierra=31557600\n",
    "\n",
    "def aniosplaneta (planeta,segundos):\n",
    "    #dictplan = {\"mercurio\": 0.2408467,\"venus\": 0.61519726,\"tierra\": 1.0,\"marte\": 1.8808158,\"jupiter\": 11.862615,\"saturno\": 9.447498,\"urano\": 84.016846,\"neptuno\": 164.79132}\n",
    "    aseg= segtierra/diccionario[planeta]\n",
    "    return print(round(segundos/(aseg),2))"
   ]
  },
  {
   "cell_type": "code",
   "execution_count": 6,
   "id": "1c600e7c-54a5-48a4-b53c-f34493aecfec",
   "metadata": {},
   "outputs": [
    {
     "name": "stdout",
     "output_type": "stream",
     "text": [
      "30.0\n",
      "None\n"
     ]
    }
   ],
   "source": [
    "print(aniosplaneta(\"venus\",1538901522))"
   ]
  },
  {
   "cell_type": "code",
   "execution_count": 7,
   "id": "99a5fdef-e538-4f9b-8569-50033185ec3d",
   "metadata": {},
   "outputs": [
    {
     "name": "stdout",
     "output_type": "stream",
     "text": [
      "30.0\n",
      "None\n"
     ]
    }
   ],
   "source": [
    "print(aniosplaneta(\"jupiter\",79807698.39))"
   ]
  },
  {
   "cell_type": "code",
   "execution_count": 10,
   "id": "49629ec3-ed7b-49ec-bf62-818b62918cc6",
   "metadata": {},
   "outputs": [
    {
     "name": "stdout",
     "output_type": "stream",
     "text": [
      "31.69\n",
      "16.29\n",
      "3.7\n",
      "126.94\n",
      "339.02\n",
      "598.75\n",
      "3221.75\n",
      "9509.24\n"
     ]
    }
   ],
   "source": [
    "aniosplaneta(\"tierra\",1000000000)\n",
    "aniosplaneta(\"mercurio\",2134835688)\n",
    "aniosplaneta(\"venus\",189839836)\n",
    "aniosplaneta(\"marte\",2129871239)\n",
    "aniosplaneta(\"jupiter\",901876382)\n",
    "aniosplaneta(\"saturno\",2000000000)\n",
    "aniosplaneta(\"urano\",1210123456)\n",
    "aniosplaneta(\"neptuno\",1821023456)"
   ]
  },
  {
   "cell_type": "code",
   "execution_count": null,
   "id": "aca99e2e-1ad8-4c78-9c21-a86f96885bf0",
   "metadata": {},
   "outputs": [],
   "source": []
  }
 ],
 "metadata": {
  "kernelspec": {
   "display_name": "Python 3 (ipykernel)",
   "language": "python",
   "name": "python3"
  },
  "language_info": {
   "codemirror_mode": {
    "name": "ipython",
    "version": 3
   },
   "file_extension": ".py",
   "mimetype": "text/x-python",
   "name": "python",
   "nbconvert_exporter": "python",
   "pygments_lexer": "ipython3",
   "version": "3.9.12"
  }
 },
 "nbformat": 4,
 "nbformat_minor": 5
}
